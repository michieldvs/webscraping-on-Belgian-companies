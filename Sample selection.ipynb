{
  "nbformat": 4,
  "nbformat_minor": 0,
  "metadata": {
    "colab": {
      "provenance": []
    },
    "kernelspec": {
      "name": "python3",
      "display_name": "Python 3"
    },
    "language_info": {
      "name": "python"
    }
  },
  "cells": [
    {
      "cell_type": "code",
      "source": [
        "import json\n",
        "from google.colab import drive"
      ],
      "metadata": {
        "id": "-PdXjb4YXs_N"
      },
      "execution_count": null,
      "outputs": []
    },
    {
      "cell_type": "code",
      "source": [
        "drive.mount('Drive', force_remount=True)"
      ],
      "metadata": {
        "colab": {
          "base_uri": "https://localhost:8080/"
        },
        "id": "amSbt8At-PVf",
        "outputId": "ecf31be6-7ca1-45bf-b02f-5c73a85dc653"
      },
      "execution_count": null,
      "outputs": [
        {
          "output_type": "stream",
          "name": "stdout",
          "text": [
            "Mounted at Drive\n"
          ]
        }
      ]
    },
    {
      "cell_type": "code",
      "execution_count": null,
      "metadata": {
        "id": "OTAhwPu0XOLe"
      },
      "outputs": [],
      "source": [
        "import pandas as pd\n",
        "\n",
        "df = pd.read_excel('Drive/MyDrive/Kopie van Bel-first_Export_ALL.xlsx')\n"
      ]
    },
    {
      "cell_type": "code",
      "source": [
        "# Calculate the percentage of each unique value in the 'Ondernemingscategorie' column\n",
        "category_percentages = df['Ondernemingscategorie'].value_counts(normalize=True)\n",
        "\n",
        "# Print the percentages of the original dataset\n",
        "with open('Size_Proportions.txt', 'w') as f:\n",
        "    f.write(\"Original percentages:\\n\")\n",
        "    for category in category_percentages.index:\n",
        "        f.write(f\"{category}: {category_percentages[category] * 100:.2f}% ({len(df[df['Ondernemingscategorie'] == category])} companies)\\n\")\n",
        "\n",
        "    for i in range(1, 6):\n",
        "        # Sample 200 random companies from the DataFrame with weights based on the category percentages\n",
        "        sample = df.sample(n=200, weights=df['Ondernemingscategorie'].map(category_percentages))\n",
        "\n",
        "        # Calculate the percentage of each unique value in the sample\n",
        "        sample_category_percentages = sample['Ondernemingscategorie'].value_counts(normalize=True)\n",
        "\n",
        "        # One-hot encode the 'Ondernemingscategorie' column for the original and sample DataFrames\n",
        "        df_one_hot = pd.get_dummies(df['Ondernemingscategorie'])\n",
        "        sample_one_hot = pd.get_dummies(sample['Ondernemingscategorie'])\n",
        "\n",
        "        # Align the one-hot encoded DataFrames to ensure that they have the same columns\n",
        "        df_one_hot, sample_one_hot = df_one_hot.align(sample_one_hot, fill_value=0, axis=1)\n",
        "\n",
        "        # Save the sample as an Excel file\n",
        "        sample_with_categories = pd.concat([sample.drop('Ondernemingscategorie', axis=1), sample_one_hot], axis=1)\n",
        "        sample_with_categories.to_excel(f\"Drive/MyDrive/Size_Sample{i}.xlsx\", index=False)\n",
        "\n",
        "        # Print the percentage of each unique value in the original DataFrame and the \n",
        "        with open('Drive/MyDrive/Size_Proportions.txt', 'a') as f:\n",
        "            f.write(\"===============================\\n\")\n",
        "            f.write(f\"Ondernemingscategorie sample {i} percentages:\\n\")\n",
        "            for category in sample_category_percentages.index:\n",
        "                f.write(f\"{category}: {sample_category_percentages[category] * 100:.2f}% ({len(sample[sample['Ondernemingscategorie'] == category])} companies)\\n\")\n",
        "            f.write(\"===============================\\n\")\n"
      ],
      "metadata": {
        "id": "pY1sEPDq49j0"
      },
      "execution_count": null,
      "outputs": []
    },
    {
      "cell_type": "code",
      "source": [
        "# Calculate the percentage of each unique value in the 'NACE Rev. 2, hoofd sectie' column\n",
        "category_percentages = df['NACE Rev. 2, hoofd sectie'].value_counts(normalize=True)\n",
        "\n",
        "# print the percentages of the original dataset\n",
        "with open('Sector_Proportions.txt', 'w') as f:x\n",
        "    f.write(\"Original percentages:\\n\")\n",
        "    for category in category_percentages.index:\n",
        "        f.write(f\"{category}: {category_percentages[category] * 100:.2f}% ({len(df[df['NACE Rev. 2, hoofd sectie'] == category])} companies)\\n\")\n",
        "\n",
        "    for i in range(1, 6):\n",
        "        # Sample 200 random companies from the DataFrame with weights based on the category percentages\n",
        "        sample = df.sample(n=200, weights=df['NACE Rev. 2, hoofd sectie'].map(category_percentages))\n",
        "\n",
        "        # Calculate the percentage of each unique value in the sample\n",
        "        sample_category_percentages = sample['NACE Rev. 2, hoofd sectie'].value_counts(normalize=True)\n",
        "\n",
        "        # One-hot encode the 'NACE Rev. 2, hoofd sectie' column for the original and sample DataFrames\n",
        "        df_one_hot = pd.get_dummies(df['NACE Rev. 2, hoofd sectie'])\n",
        "        sample_one_hot = pd.get_dummies(sample['NACE Rev. 2, hoofd sectie'])\n",
        "\n",
        "        # Align the one-hot encoded DataFrames to ensure that they have the same columns\n",
        "        df_one_hot, sample_one_hot = df_one_hot.align(sample_one_hot, fill_value=0, axis=1)\n",
        "\n",
        "        # Save the sample as an Excel file\n",
        "        sample_with_categories = pd.concat([sample.drop('NACE Rev. 2, hoofd sectie', axis=1), sample_one_hot], axis=1)\n",
        "        sample_with_categories.to_excel(f\"Drive/MyDrive/Sector_Sample{i}.xlsx\", index=False)\n",
        "\n",
        "        # Print the percentage of each unique value in the original DataFrame and the \n",
        "        with open('Drive/MyDrive/Sector_Proportions.txt', 'a') as f:\n",
        "            f.write(\"===============================\\n\")\n",
        "            f.write(f\"Sector sample {i} percentages:\\n\")\n",
        "            for category in sample_category_percentages.index:\n",
        "                f.write(f\"{category}: {sample_category_percentages[category] * 100:.2f}% ({len(sample[sample['NACE Rev. 2, hoofd sectie'] == category])} companies)\\n\")\n",
        "            f.write(\"===============================\\n\")\n"
      ],
      "metadata": {
        "id": "Th4XD0Mk4PF2"
      },
      "execution_count": null,
      "outputs": []
    },
    {
      "cell_type": "code",
      "source": [
        "# Calculate the count and percentage of each unique value in the 'NACE Rev. 2, hoofd sectie' column\n",
        "sector_counts = df['NACE Rev. 2, hoofd sectie'].value_counts()\n",
        "sector_percentages = sector_counts / len(df) * 100\n",
        "\n",
        "# Calculate the count and percentage of each unique value in the 'Ondernemingscategorie' column\n",
        "size_counts = df['Ondernemingscategorie'].value_counts()\n",
        "size_percentages = size_counts / len(df) * 100\n",
        "\n",
        "# Print the resulting value counts and percentages\n",
        "print(\"Sector counts and percentages:\")\n",
        "for value, count, percentage in zip(sector_counts.index, sector_counts, sector_percentages):\n",
        "    print(f\"{value} ==> {count} ==> {percentage:.2f}%\")\n",
        "print(\"===============================\")\n",
        "print(\"Size counts and percentages:\")\n",
        "for value, count, percentage in zip(size_counts.index, size_counts, size_percentages):\n",
        "    print(f\"{value} ==> {count} ==> {percentage:.2f}%\")"
      ],
      "metadata": {
        "id": "Acj9pTb6bX68"
      },
      "execution_count": null,
      "outputs": []
    },
    {
      "cell_type": "code",
      "source": [
        "# Calculate the count and percentage of each unique value in the 'NACE Rev. 2, hoofd sectie' column\n",
        "sector_counts = df['NACE Rev. 2, hoofd sectie'].value_counts()\n",
        "sector_percentages = sector_counts / len(df) * 100\n",
        "\n",
        "# Calculate the count and percentage of each unique value in the 'Ondernemingscategorie' column\n",
        "size_counts = df['Ondernemingscategorie'].value_counts()\n",
        "size_percentages = size_counts / len(df) * 100\n",
        "\n",
        "# Open a file to write the output to\n",
        "with open('Drive/MyDrive/Original_Proportions.txt', 'w') as f:\n",
        "    f.write(\"Sector counts and percentages:\\n\")\n",
        "    for value, count, percentage in zip(sector_counts.index, sector_counts, sector_percentages):\n",
        "        f.write(f\"{value} ==> {count} ==> {percentage:.2f}%\\n\")\n",
        "    f.write(\"===============================\\n\")\n",
        "    f.write(\"Size counts and percentages:\\n\")\n",
        "    for value, count, percentage in zip(size_counts.index, size_counts, size_percentages):\n",
        "        f.write(f\"{value} ==> {count} ==> {percentage:.2f}%\\n\")\n"
      ],
      "metadata": {
        "id": "bUkQbBO9xvVo"
      },
      "execution_count": null,
      "outputs": []
    },
    {
      "cell_type": "code",
      "source": [
        "# Calculate the percentage of each unique value in the 'Ondernemingscategorie' column\n",
        "category_percentages = df['Ondernemingscategorie'].value_counts(normalize=True)\n",
        "\n",
        "# Sample 200 random companies from the DataFrame with weights based on the category percentages\n",
        "sample = df.sample(n=200, weights=df['Ondernemingscategorie'].map(category_percentages))\n",
        "\n",
        "# Calculate the percentage of each unique value in the sample\n",
        "sample_category_percentages = sample['Ondernemingscategorie'].value_counts(normalize=True)\n",
        "\n",
        "# Print the percentage of each unique value in the original DataFrame and the sample\n",
        "print(\"Original percentages:\")\n",
        "for category in category_percentages.index:\n",
        "    print(f\"{category}: {category_percentages[category] * 100:.2f}% ({len(df[df['Ondernemingscategorie'] == category])} companies)\")\n",
        "print(\"===============================\")\n",
        "print(\"Sample percentages:\")\n",
        "for category in sample_category_percentages.index:\n",
        "    print(f\"{category}: {sample_category_percentages[category] * 100:.2f}% ({len(sample[sample['Ondernemingscategorie'] == category])} companies)\")\n",
        "print(\"===============================\")\n",
        "\n",
        "# Loop through each unique value in the 'Ondernemingscategorie' column\n",
        "for category in category_percentages.index:\n",
        "    # Select the companies in the sample with this category\n",
        "    selected_companies = sample.loc[sample['Ondernemingscategorie'] == category, 'Naam']\n",
        "    \n",
        "    # If there are selected companies in this category, print them\n",
        "    if len(selected_companies) > 0:\n",
        "        print(f\"{category}: {category_percentages[category] * 100:.2f}% ({len(df[df['Ondernemingscategorie'] == category])} companies) ==> {sample_category_percentages[category] * 100:.2f}% ({len(selected_companies)} companies)\")\n",
        "        print(selected_companies.to_list())\n",
        "        print(\"===============================\")\n"
      ],
      "metadata": {
        "id": "-GDYtinvhG52"
      },
      "execution_count": null,
      "outputs": []
    },
    {
      "cell_type": "code",
      "source": [
        "# adjust the sampling weights for each category based on the difference between the target and actual proportions of the category in the sample ==> to solve over-/under- sampling, not sure if it is better \n",
        "# Calculate the percentage of each unique value in the 'Ondernemingscategorie' column\n",
        "category_percentages = df['Ondernemingscategorie'].value_counts(normalize=True)\n",
        "\n",
        "# Determine the target number of companies to select for each category\n",
        "target_counts = (category_percentages * len(df)).round().astype(int)\n",
        "\n",
        "# Calculate the sampling weights for each category\n",
        "weights = df['Ondernemingscategorie'].map(lambda x: 1 / target_counts[x] if target_counts[x] > 0 else 0)\n",
        "\n",
        "# Sample 200 random companies from the DataFrame with weights based on the category weights\n",
        "sample = df.sample(n=200, weights=weights)\n",
        "\n",
        "# Calculate the percentage of each unique value in the sample\n",
        "sample_category_percentages = sample['Ondernemingscategorie'].value_counts(normalize=True)\n",
        "\n",
        "# Print the percentage of each unique value in the original DataFrame and the sample\n",
        "print(\"Original percentages:\")\n",
        "for category in category_percentages.index:\n",
        "    print(f\"{category}: {category_percentages[category] * 100:.2f}% ({len(df[df['Ondernemingscategorie'] == category])} companies)\")\n",
        "print(\"===============================\")\n",
        "print(\"Sample percentages:\")\n",
        "for category in sample_category_percentages.index:\n",
        "    print(f\"{category}: {sample_category_percentages[category] * 100:.2f}% ({len(sample[sample['Ondernemingscategorie'] == category])} companies)\")\n",
        "print(\"===============================\")\n",
        "\n",
        "# Loop through each unique value in the 'Ondernemingscategorie' column\n",
        "for category in category_percentages.index:\n",
        "    # Select the companies in the sample with this category\n",
        "    selected_companies = sample.loc[sample['Ondernemingscategorie'] == category, 'Naam']\n",
        "    \n",
        "    # If there are selected companies in this category, print them\n",
        "    if len(selected_companies) > 0:\n",
        "        print(f\"{category}: {category_percentages[category] * 100:.2f}% ({len(df[df['Ondernemingscategorie'] == category])} companies) ==> {sample_category_percentages[category] * 100:.2f}% ({len(selected_companies)} companies)\")\n",
        "        print(selected_companies.to_list())\n",
        "        print(\"===============================\")\n"
      ],
      "metadata": {
        "id": "RkukpVrfkgfG"
      },
      "execution_count": null,
      "outputs": []
    },
    {
      "cell_type": "code",
      "source": [
        "# Calculate the percentage of each unique value in the 'NACE Rev. 2, hoofd sectie' column\n",
        "section_percentages = df['NACE Rev. 2, hoofd sectie'].value_counts(normalize=True)\n",
        "\n",
        "# Sample 200 random companies from the DataFrame with weights based on the section percentages\n",
        "sample = df.sample(n=200, weights=df['NACE Rev. 2, hoofd sectie'].map(section_percentages))\n",
        "\n",
        "# Calculate the percentage of each unique value in the sample\n",
        "sample_section_percentages = sample['NACE Rev. 2, hoofd sectie'].value_counts(normalize=True)\n",
        "\n",
        "# Print the percentage of each unique value in the original DataFrame and the sample\n",
        "print(\"Original percentages:\")\n",
        "for section in section_percentages.index:\n",
        "    print(f\"{section}: {section_percentages[section] * 100:.2f}% ({len(df[df['NACE Rev. 2, hoofd sectie'] == section])} companies)\")\n",
        "print(\"===============================\")\n",
        "print(\"Sample percentages:\")\n",
        "for section in sample_section_percentages.index:\n",
        "    print(f\"{section}: {sample_section_percentages[section] * 100:.2f}% ({len(sample[sample['NACE Rev. 2, hoofd sectie'] == section])} companies)\")\n",
        "print(\"===============================\")\n",
        "\n",
        "# Loop through each unique value in the 'NACE Rev. 2, hoofd sectie' column\n",
        "for section in section_percentages.index:\n",
        "    # Select the companies in the sample with this section\n",
        "    selected_companies = sample.loc[sample['NACE Rev. 2, hoofd sectie'] == section, 'Naam']\n",
        "    \n",
        "    # If there are selected companies in this section, print them\n",
        "    if len(selected_companies) > 0:\n",
        "        print(f\"{section}: {section_percentages[section] * 100:.2f}% ({len(df[df['NACE Rev. 2, hoofd sectie'] == section])} companies) ==> {sample_section_percentages[section] * 100:.2f}% ({len(selected_companies)} companies)\")\n",
        "        print(selected_companies.to_list())\n",
        "        print(\"===============================\")\n"
      ],
      "metadata": {
        "id": "awSb-DK5iDpg"
      },
      "execution_count": null,
      "outputs": []
    },
    {
      "cell_type": "code",
      "source": [
        "# Calculate the percentage of each unique value in the 'Ondernemingscategorie' column\n",
        "category_percentages = df['Ondernemingscategorie'].value_counts(normalize=True)\n",
        "\n",
        "# print the percentages of the original dataset\n",
        "print(\"Original percentages:\")\n",
        "for category in category_percentages.index:\n",
        "    print(f\"{category}: {category_percentages[category] * 100:.2f}% ({len(df[df['Ondernemingscategorie'] == category])} companies)\")\n",
        "\n",
        "for i in range(1, 6):\n",
        "    # Sample 200 random companies from the DataFrame with weights based on the category percentages\n",
        "    sample = df.sample(n=200, weights=df['Ondernemingscategorie'].map(category_percentages))\n",
        "\n",
        "    # Calculate the percentage of each unique value in the sample\n",
        "    sample_category_percentages = sample['Ondernemingscategorie'].value_counts(normalize=True)\n",
        "\n",
        "    # One-hot encode the 'Ondernemingscategorie' column for the original and sample DataFrames\n",
        "    df_one_hot = pd.get_dummies(df['Ondernemingscategorie'])\n",
        "    sample_one_hot = pd.get_dummies(sample['Ondernemingscategorie'])\n",
        "\n",
        "    # Align the one-hot encoded DataFrames to ensure that they have the same columns\n",
        "    df_one_hot, sample_one_hot = df_one_hot.align(sample_one_hot, fill_value=0, axis=1)\n",
        "\n",
        "    # Save the sample as an Excel file\n",
        "    sample_with_categories = pd.concat([sample.drop('Ondernemingscategorie', axis=1), sample_one_hot], axis=1)\n",
        "    sample_with_categories.to_excel(f\"Drive/MyDrive/Size_Sample{i}.xlsx\", index=False)\n",
        "\n",
        "    # Print the percentage of each unique value in the original DataFrame and the \n",
        "    print(\"===============================\")\n",
        "    print(f\"Size sample {i} percentages:\")\n",
        "    for category in sample_category_percentages.index:\n",
        "        print(f\"{category}: {sample_category_percentages[category] * 100:.2f}% ({len(sample[sample['Ondernemingscategorie'] == category])} companies)\")\n",
        "    print(\"===============================\")"
      ],
      "metadata": {
        "id": "L2N2kQEZmdJ9"
      },
      "execution_count": null,
      "outputs": []
    },
    {
      "cell_type": "code",
      "source": [
        "# Calculate the percentage of each unique value in the 'NACE Rev. 2, hoofd sectie' column\n",
        "category_percentages = df['NACE Rev. 2, hoofd sectie'].value_counts(normalize=True)\n",
        "\n",
        "# print the percentages of the original dataset\n",
        "print(\"Original percentages:\")\n",
        "for category in category_percentages.index:\n",
        "    print(f\"{category}: {category_percentages[category] * 100:.2f}% ({len(df[df['NACE Rev. 2, hoofd sectie'] == category])} companies)\")\n",
        "\n",
        "for i in range(1, 6):\n",
        "    # Sample 200 random companies from the DataFrame with weights based on the category percentages\n",
        "    sample = df.sample(n=200, weights=df['NACE Rev. 2, hoofd sectie'].map(category_percentages))\n",
        "\n",
        "    # Calculate the percentage of each unique value in the sample\n",
        "    sample_category_percentages = sample['NACE Rev. 2, hoofd sectie'].value_counts(normalize=True)\n",
        "\n",
        "    # One-hot encode the 'NACE Rev. 2, hoofd sectie' column for the original and sample DataFrames\n",
        "    df_one_hot = pd.get_dummies(df['NACE Rev. 2, hoofd sectie'])\n",
        "    sample_one_hot = pd.get_dummies(sample['NACE Rev. 2, hoofd sectie'])\n",
        "\n",
        "    # Align the one-hot encoded DataFrames to ensure that they have the same columns\n",
        "    df_one_hot, sample_one_hot = df_one_hot.align(sample_one_hot, fill_value=0, axis=1)\n",
        "\n",
        "    # Save the sample as an Excel file\n",
        "    sample_with_categories = pd.concat([sample.drop('NACE Rev. 2, hoofd sectie', axis=1), sample_one_hot], axis=1)\n",
        "    sample_with_categories.to_excel(f\"Drive/MyDrive/Sector_Sample{i}.xlsx\", index=False)\n",
        "\n",
        "    # Print the percentage of each unique value in the original DataFrame and the \n",
        "    print(\"===============================\")\n",
        "    print(f\"Sector sample {i} percentages:\")\n",
        "    for category in sample_category_percentages.index:\n",
        "        print(f\"{category}: {sample_category_percentages[category] * 100:.2f}% ({len(sample[sample['NACE Rev. 2, hoofd sectie'] == category])} companies)\")\n",
        "    print(\"===============================\")\n"
      ],
      "metadata": {
        "id": "3m-BUTy-qbqt"
      },
      "execution_count": null,
      "outputs": []
    }
  ]
}